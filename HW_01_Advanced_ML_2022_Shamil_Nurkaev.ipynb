{
  "nbformat": 4,
  "nbformat_minor": 0,
  "metadata": {
    "colab": {
      "name": "HW_01_Advanced_ML_2022_Shamil_Nurkaev.ipynb",
      "provenance": [],
      "collapsed_sections": [],
      "toc_visible": true
    },
    "kernelspec": {
      "name": "python3",
      "display_name": "Python 3"
    },
    "language_info": {
      "name": "python"
    }
  },
  "cells": [
    {
      "cell_type": "markdown",
      "source": [
        "## Part I: Preparing Data"
      ],
      "metadata": {
        "id": "uts26-JtJuPg"
      }
    },
    {
      "cell_type": "code",
      "source": [
        "import pandas as pd\n",
        "import numpy as np\n",
        "from tqdm.auto import tqdm\n",
        "\n",
        "import matplotlib.pyplot as plt\n",
        "import seaborn as sns\n",
        "%matplotlib inline\n",
        "\n",
        "import warnings\n",
        "warnings.filterwarnings(\"ignore\")"
      ],
      "metadata": {
        "id": "xxaPi6T4KCwo"
      },
      "execution_count": 1,
      "outputs": []
    },
    {
      "cell_type": "markdown",
      "source": [
        "### Loading data"
      ],
      "metadata": {
        "id": "JFIWCf6edym8"
      }
    },
    {
      "cell_type": "code",
      "execution_count": 2,
      "metadata": {
        "id": "F_CVFqPbJjHh"
      },
      "outputs": [],
      "source": [
        "DATA_PATH = \"/content/drive/MyDrive/coronavirus-source-data/owid-covid-data.csv\"\n",
        "\n",
        "data_pd = pd.read_csv(DATA_PATH)"
      ]
    },
    {
      "cell_type": "markdown",
      "source": [
        "Выберем из таблицы данные по России, начиная с `3 марта 2020 г.` (в этот момент впервые стало больше 2 заболевших)."
      ],
      "metadata": {
        "id": "cZcknsTqKwC4"
      }
    },
    {
      "cell_type": "code",
      "source": [
        "data_pd[\"date\"] =  pd.to_datetime(data_pd[\"date\"]).dt.normalize()"
      ],
      "metadata": {
        "id": "P2sE3apVKbwH"
      },
      "execution_count": 3,
      "outputs": []
    },
    {
      "cell_type": "code",
      "source": [
        "data_pd[\"date\"]"
      ],
      "metadata": {
        "colab": {
          "base_uri": "https://localhost:8080/"
        },
        "id": "QmqBz9Wql3g7",
        "outputId": "1dc05969-848b-499c-fbdb-d16570b83e8c"
      },
      "execution_count": 4,
      "outputs": [
        {
          "output_type": "execute_result",
          "data": {
            "text/plain": [
              "0        2020-02-24\n",
              "1        2020-02-25\n",
              "2        2020-02-26\n",
              "3        2020-02-27\n",
              "4        2020-02-28\n",
              "            ...    \n",
              "166549   2022-03-02\n",
              "166550   2022-03-03\n",
              "166551   2022-03-04\n",
              "166552   2022-03-05\n",
              "166553   2022-03-06\n",
              "Name: date, Length: 166554, dtype: datetime64[ns]"
            ]
          },
          "metadata": {},
          "execution_count": 4
        }
      ]
    },
    {
      "cell_type": "code",
      "source": [
        "rus_march_mask = (\n",
        "    (data_pd[\"date\"] >= \"2020-03-03\") & \n",
        "    (data_pd[\"location\"] == \"Russia\")\n",
        ")\n",
        "data_pd = data_pd[rus_march_mask].reset_index()"
      ],
      "metadata": {
        "id": "nBrZtqtIKoO_"
      },
      "execution_count": 5,
      "outputs": []
    },
    {
      "cell_type": "markdown",
      "source": [
        "Даны данные за 734 дня"
      ],
      "metadata": {
        "id": "DGahG7PSO39G"
      }
    },
    {
      "cell_type": "code",
      "source": [
        "data_pd['date'].nunique()"
      ],
      "metadata": {
        "colab": {
          "base_uri": "https://localhost:8080/"
        },
        "id": "rpH6pvISOkac",
        "outputId": "393536e0-ea2b-4f76-b053-0251c364da1f"
      },
      "execution_count": 6,
      "outputs": [
        {
          "output_type": "execute_result",
          "data": {
            "text/plain": [
              "734"
            ]
          },
          "metadata": {},
          "execution_count": 6
        }
      ]
    },
    {
      "cell_type": "code",
      "source": [
        "data_pd.shape"
      ],
      "metadata": {
        "colab": {
          "base_uri": "https://localhost:8080/"
        },
        "id": "U4bH4Xk3Mf5l",
        "outputId": "8309e1aa-4b32-4909-f8a0-500b9042f41d"
      },
      "execution_count": 7,
      "outputs": [
        {
          "output_type": "execute_result",
          "data": {
            "text/plain": [
              "(734, 68)"
            ]
          },
          "metadata": {},
          "execution_count": 7
        }
      ]
    },
    {
      "cell_type": "code",
      "source": [
        "data_pd.sample(3)"
      ],
      "metadata": {
        "colab": {
          "base_uri": "https://localhost:8080/",
          "height": 282
        },
        "id": "jAuGhg3vOzQ1",
        "outputId": "fd0812e0-af66-4abd-b4f5-11c3726f6a3f"
      },
      "execution_count": 8,
      "outputs": [
        {
          "output_type": "execute_result",
          "data": {
            "text/html": [
              "\n",
              "  <div id=\"df-7fc5c2dd-624f-4229-bbaa-4420f8f8faf6\">\n",
              "    <div class=\"colab-df-container\">\n",
              "      <div>\n",
              "<style scoped>\n",
              "    .dataframe tbody tr th:only-of-type {\n",
              "        vertical-align: middle;\n",
              "    }\n",
              "\n",
              "    .dataframe tbody tr th {\n",
              "        vertical-align: top;\n",
              "    }\n",
              "\n",
              "    .dataframe thead th {\n",
              "        text-align: right;\n",
              "    }\n",
              "</style>\n",
              "<table border=\"1\" class=\"dataframe\">\n",
              "  <thead>\n",
              "    <tr style=\"text-align: right;\">\n",
              "      <th></th>\n",
              "      <th>index</th>\n",
              "      <th>iso_code</th>\n",
              "      <th>continent</th>\n",
              "      <th>location</th>\n",
              "      <th>date</th>\n",
              "      <th>total_cases</th>\n",
              "      <th>new_cases</th>\n",
              "      <th>new_cases_smoothed</th>\n",
              "      <th>total_deaths</th>\n",
              "      <th>new_deaths</th>\n",
              "      <th>...</th>\n",
              "      <th>female_smokers</th>\n",
              "      <th>male_smokers</th>\n",
              "      <th>handwashing_facilities</th>\n",
              "      <th>hospital_beds_per_thousand</th>\n",
              "      <th>life_expectancy</th>\n",
              "      <th>human_development_index</th>\n",
              "      <th>excess_mortality_cumulative_absolute</th>\n",
              "      <th>excess_mortality_cumulative</th>\n",
              "      <th>excess_mortality</th>\n",
              "      <th>excess_mortality_cumulative_per_million</th>\n",
              "    </tr>\n",
              "  </thead>\n",
              "  <tbody>\n",
              "    <tr>\n",
              "      <th>638</th>\n",
              "      <td>124593</td>\n",
              "      <td>RUS</td>\n",
              "      <td>Europe</td>\n",
              "      <td>Russia</td>\n",
              "      <td>2021-12-01</td>\n",
              "      <td>9500836.0</td>\n",
              "      <td>32196.0</td>\n",
              "      <td>32850.143</td>\n",
              "      <td>271091.0</td>\n",
              "      <td>1191.0</td>\n",
              "      <td>...</td>\n",
              "      <td>23.4</td>\n",
              "      <td>58.3</td>\n",
              "      <td>NaN</td>\n",
              "      <td>8.05</td>\n",
              "      <td>72.58</td>\n",
              "      <td>0.824</td>\n",
              "      <td>NaN</td>\n",
              "      <td>NaN</td>\n",
              "      <td>NaN</td>\n",
              "      <td>NaN</td>\n",
              "    </tr>\n",
              "    <tr>\n",
              "      <th>178</th>\n",
              "      <td>124133</td>\n",
              "      <td>RUS</td>\n",
              "      <td>Europe</td>\n",
              "      <td>Russia</td>\n",
              "      <td>2020-08-28</td>\n",
              "      <td>977730.0</td>\n",
              "      <td>4758.0</td>\n",
              "      <td>4722.714</td>\n",
              "      <td>16866.0</td>\n",
              "      <td>108.0</td>\n",
              "      <td>...</td>\n",
              "      <td>23.4</td>\n",
              "      <td>58.3</td>\n",
              "      <td>NaN</td>\n",
              "      <td>8.05</td>\n",
              "      <td>72.58</td>\n",
              "      <td>0.824</td>\n",
              "      <td>NaN</td>\n",
              "      <td>NaN</td>\n",
              "      <td>NaN</td>\n",
              "      <td>NaN</td>\n",
              "    </tr>\n",
              "    <tr>\n",
              "      <th>652</th>\n",
              "      <td>124607</td>\n",
              "      <td>RUS</td>\n",
              "      <td>Europe</td>\n",
              "      <td>Russia</td>\n",
              "      <td>2021-12-15</td>\n",
              "      <td>9927150.0</td>\n",
              "      <td>28011.0</td>\n",
              "      <td>29215.857</td>\n",
              "      <td>287135.0</td>\n",
              "      <td>1112.0</td>\n",
              "      <td>...</td>\n",
              "      <td>23.4</td>\n",
              "      <td>58.3</td>\n",
              "      <td>NaN</td>\n",
              "      <td>8.05</td>\n",
              "      <td>72.58</td>\n",
              "      <td>0.824</td>\n",
              "      <td>NaN</td>\n",
              "      <td>NaN</td>\n",
              "      <td>NaN</td>\n",
              "      <td>NaN</td>\n",
              "    </tr>\n",
              "  </tbody>\n",
              "</table>\n",
              "<p>3 rows × 68 columns</p>\n",
              "</div>\n",
              "      <button class=\"colab-df-convert\" onclick=\"convertToInteractive('df-7fc5c2dd-624f-4229-bbaa-4420f8f8faf6')\"\n",
              "              title=\"Convert this dataframe to an interactive table.\"\n",
              "              style=\"display:none;\">\n",
              "        \n",
              "  <svg xmlns=\"http://www.w3.org/2000/svg\" height=\"24px\"viewBox=\"0 0 24 24\"\n",
              "       width=\"24px\">\n",
              "    <path d=\"M0 0h24v24H0V0z\" fill=\"none\"/>\n",
              "    <path d=\"M18.56 5.44l.94 2.06.94-2.06 2.06-.94-2.06-.94-.94-2.06-.94 2.06-2.06.94zm-11 1L8.5 8.5l.94-2.06 2.06-.94-2.06-.94L8.5 2.5l-.94 2.06-2.06.94zm10 10l.94 2.06.94-2.06 2.06-.94-2.06-.94-.94-2.06-.94 2.06-2.06.94z\"/><path d=\"M17.41 7.96l-1.37-1.37c-.4-.4-.92-.59-1.43-.59-.52 0-1.04.2-1.43.59L10.3 9.45l-7.72 7.72c-.78.78-.78 2.05 0 2.83L4 21.41c.39.39.9.59 1.41.59.51 0 1.02-.2 1.41-.59l7.78-7.78 2.81-2.81c.8-.78.8-2.07 0-2.86zM5.41 20L4 18.59l7.72-7.72 1.47 1.35L5.41 20z\"/>\n",
              "  </svg>\n",
              "      </button>\n",
              "      \n",
              "  <style>\n",
              "    .colab-df-container {\n",
              "      display:flex;\n",
              "      flex-wrap:wrap;\n",
              "      gap: 12px;\n",
              "    }\n",
              "\n",
              "    .colab-df-convert {\n",
              "      background-color: #E8F0FE;\n",
              "      border: none;\n",
              "      border-radius: 50%;\n",
              "      cursor: pointer;\n",
              "      display: none;\n",
              "      fill: #1967D2;\n",
              "      height: 32px;\n",
              "      padding: 0 0 0 0;\n",
              "      width: 32px;\n",
              "    }\n",
              "\n",
              "    .colab-df-convert:hover {\n",
              "      background-color: #E2EBFA;\n",
              "      box-shadow: 0px 1px 2px rgba(60, 64, 67, 0.3), 0px 1px 3px 1px rgba(60, 64, 67, 0.15);\n",
              "      fill: #174EA6;\n",
              "    }\n",
              "\n",
              "    [theme=dark] .colab-df-convert {\n",
              "      background-color: #3B4455;\n",
              "      fill: #D2E3FC;\n",
              "    }\n",
              "\n",
              "    [theme=dark] .colab-df-convert:hover {\n",
              "      background-color: #434B5C;\n",
              "      box-shadow: 0px 1px 3px 1px rgba(0, 0, 0, 0.15);\n",
              "      filter: drop-shadow(0px 1px 2px rgba(0, 0, 0, 0.3));\n",
              "      fill: #FFFFFF;\n",
              "    }\n",
              "  </style>\n",
              "\n",
              "      <script>\n",
              "        const buttonEl =\n",
              "          document.querySelector('#df-7fc5c2dd-624f-4229-bbaa-4420f8f8faf6 button.colab-df-convert');\n",
              "        buttonEl.style.display =\n",
              "          google.colab.kernel.accessAllowed ? 'block' : 'none';\n",
              "\n",
              "        async function convertToInteractive(key) {\n",
              "          const element = document.querySelector('#df-7fc5c2dd-624f-4229-bbaa-4420f8f8faf6');\n",
              "          const dataTable =\n",
              "            await google.colab.kernel.invokeFunction('convertToInteractive',\n",
              "                                                     [key], {});\n",
              "          if (!dataTable) return;\n",
              "\n",
              "          const docLinkHtml = 'Like what you see? Visit the ' +\n",
              "            '<a target=\"_blank\" href=https://colab.research.google.com/notebooks/data_table.ipynb>data table notebook</a>'\n",
              "            + ' to learn more about interactive tables.';\n",
              "          element.innerHTML = '';\n",
              "          dataTable['output_type'] = 'display_data';\n",
              "          await google.colab.output.renderOutput(dataTable, element);\n",
              "          const docLink = document.createElement('div');\n",
              "          docLink.innerHTML = docLinkHtml;\n",
              "          element.appendChild(docLink);\n",
              "        }\n",
              "      </script>\n",
              "    </div>\n",
              "  </div>\n",
              "  "
            ],
            "text/plain": [
              "      index iso_code continent location       date  total_cases  new_cases  \\\n",
              "638  124593      RUS    Europe   Russia 2021-12-01    9500836.0    32196.0   \n",
              "178  124133      RUS    Europe   Russia 2020-08-28     977730.0     4758.0   \n",
              "652  124607      RUS    Europe   Russia 2021-12-15    9927150.0    28011.0   \n",
              "\n",
              "     new_cases_smoothed  total_deaths  new_deaths  ...  female_smokers  \\\n",
              "638           32850.143      271091.0      1191.0  ...            23.4   \n",
              "178            4722.714       16866.0       108.0  ...            23.4   \n",
              "652           29215.857      287135.0      1112.0  ...            23.4   \n",
              "\n",
              "     male_smokers  handwashing_facilities  hospital_beds_per_thousand  \\\n",
              "638          58.3                     NaN                        8.05   \n",
              "178          58.3                     NaN                        8.05   \n",
              "652          58.3                     NaN                        8.05   \n",
              "\n",
              "     life_expectancy  human_development_index  \\\n",
              "638            72.58                    0.824   \n",
              "178            72.58                    0.824   \n",
              "652            72.58                    0.824   \n",
              "\n",
              "     excess_mortality_cumulative_absolute  excess_mortality_cumulative  \\\n",
              "638                                   NaN                          NaN   \n",
              "178                                   NaN                          NaN   \n",
              "652                                   NaN                          NaN   \n",
              "\n",
              "     excess_mortality  excess_mortality_cumulative_per_million  \n",
              "638               NaN                                      NaN  \n",
              "178               NaN                                      NaN  \n",
              "652               NaN                                      NaN  \n",
              "\n",
              "[3 rows x 68 columns]"
            ]
          },
          "metadata": {},
          "execution_count": 8
        }
      ]
    },
    {
      "cell_type": "code",
      "source": [
        "data_pd.loc[(data_pd.new_cases == 0), \"new_cases\"] = 1"
      ],
      "metadata": {
        "id": "eueoCrw43k45"
      },
      "execution_count": 9,
      "outputs": []
    },
    {
      "cell_type": "markdown",
      "source": [
        "### Training & testing samples"
      ],
      "metadata": {
        "id": "8UKb-9OAOLt1"
      }
    },
    {
      "cell_type": "markdown",
      "source": [
        "Для единообразия давайте зафиксируем тренировочный набор в виде первых 50 отсчётов (дней), начиная с 3 марта. Остальные данные используем в качестве тестового набора (и он даже будет увеличиваться по мере выполнения задания)."
      ],
      "metadata": {
        "id": "NGx-iAuwVam4"
      }
    },
    {
      "cell_type": "code",
      "source": [
        "train_date_begin = data_pd[\"date\"].min().normalize()\n",
        "train_date_end = train_date_begin + pd.DateOffset(days=49)\n",
        "test_date_begin = train_date_end + pd.DateOffset(days=1)\n",
        "test_date_end = data_pd[\"date\"].max().normalize()\n",
        "\n",
        "print(\"train_date_begin:\", train_date_begin)\n",
        "print(\"train_date_end\", train_date_end)\n",
        "\n",
        "print(\"test_date_begin:\", test_date_begin)\n",
        "print(\"test_date_end\", test_date_end)"
      ],
      "metadata": {
        "colab": {
          "base_uri": "https://localhost:8080/"
        },
        "id": "qhwy7Fe4POZ_",
        "outputId": "efc3c631-8e17-4282-a146-6fb048be3a7c"
      },
      "execution_count": 10,
      "outputs": [
        {
          "output_type": "stream",
          "name": "stdout",
          "text": [
            "train_date_begin: 2020-03-03 00:00:00\n",
            "train_date_end 2020-04-21 00:00:00\n",
            "test_date_begin: 2020-04-22 00:00:00\n",
            "test_date_end 2022-03-06 00:00:00\n"
          ]
        }
      ]
    },
    {
      "cell_type": "code",
      "source": [
        "def train_test_split(feature_matrix, target, \n",
        "                     train_date_begin, train_date_end,\n",
        "                     test_date_begin, test_date_end):\n",
        "    \"The date column must be set to index.\"\n",
        "    train_X = feature_matrix.loc[train_date_begin:train_date_end]\n",
        "    test_X = feature_matrix.loc[test_date_begin:test_date_end]\n",
        "    train_y = target.loc[train_date_begin:train_date_end]\n",
        "    test_y = target.loc[test_date_begin:test_date_end]\n",
        "    return train_X, test_X, train_y, test_y"
      ],
      "metadata": {
        "id": "UJCDM9goOAX7"
      },
      "execution_count": 11,
      "outputs": []
    },
    {
      "cell_type": "code",
      "source": [
        "data_pd = data_pd.set_index(\"date\")"
      ],
      "metadata": {
        "id": "GqUMfKa8X7JA"
      },
      "execution_count": 12,
      "outputs": []
    },
    {
      "cell_type": "code",
      "source": [
        "train_X, test_X, train_y, test_y = train_test_split(\n",
        "    data_pd.drop([\"total_cases\", \"new_cases\"], axis=1),\n",
        "    data_pd.loc[:, [\"total_cases\", \"new_cases\"]],\n",
        "    train_date_begin, train_date_end,  \n",
        "    test_date_begin, test_date_end\n",
        ")"
      ],
      "metadata": {
        "id": "21FqfGPfQ-4T"
      },
      "execution_count": 13,
      "outputs": []
    },
    {
      "cell_type": "code",
      "source": [
        "print(\n",
        "    f\"\"\"\n",
        "    Размеры выборок, (объекты, признаки).\n",
        "    - Обучающая: {train_X.shape}\n",
        "    - Тестовая: {test_X.shape}\n",
        "    \"\"\"\n",
        ")"
      ],
      "metadata": {
        "colab": {
          "base_uri": "https://localhost:8080/"
        },
        "id": "4Pw2rsmlY9Sj",
        "outputId": "5ffe91be-4a47-451b-d1b1-e9787738a5a6"
      },
      "execution_count": 14,
      "outputs": [
        {
          "output_type": "stream",
          "name": "stdout",
          "text": [
            "\n",
            "    Размеры выборок, (объекты, признаки).\n",
            "    - Обучающая: (50, 65)\n",
            "    - Тестовая: (684, 65)\n",
            "    \n"
          ]
        }
      ]
    },
    {
      "cell_type": "markdown",
      "source": [
        "## Part II: "
      ],
      "metadata": {
        "id": "VQ48E_zxZjLW"
      }
    },
    {
      "cell_type": "markdown",
      "source": [
        "## Построим графики целевых переменных"
      ],
      "metadata": {
        "id": "Foy8DorgZmit"
      }
    },
    {
      "cell_type": "code",
      "source": [
        "def plot_target_distributions(fig, ax, data, target_names, \n",
        "                              titles, colors, suptitle, \n",
        "                              xlabel, ylabel):\n",
        "    # sns.set(style=\"whitegrid\", font_scale=1.3)\n",
        "    # sns.set_style({\"font.family\": \"serif\"})\n",
        "\n",
        "    fig.subplots_adjust(bottom=0.2, top=0.85, wspace=0.1)\n",
        "    fig.suptitle(suptitle, fontsize=25)\n",
        "    fig.align_labels(axs=ax)\n",
        "\n",
        "    for i, target_name in enumerate(target_names):\n",
        "        ax[i].set_title(f\"{target_name}\", fontsize=22, pad=10)\n",
        "        ax[i].set_xlabel(xlabel, fontsize=22, labelpad=10)\n",
        "        ax[i].set_ylabel(ylabel, fontsize=22, labelpad=10)\n",
        "        ax[i].ticklabel_format(style='sci', axis='y')\n",
        "    ax[0].yaxis.set_label_position(\"left\")\n",
        "    ax[1].yaxis.set_label_position(\"right\")\n",
        "    ax[1].yaxis.tick_right()\n",
        "\n",
        "    for i, target_name in enumerate(target_names):\n",
        "        for sample_type in data.keys():\n",
        "            ax[i].scatter(\n",
        "                x=data[sample_type].index,\n",
        "                y=data[sample_type].loc[:, target_name], \n",
        "                label=sample_type, \n",
        "                color=colors[sample_type], \n",
        "                alpha=0.75, edgecolor=\"gold\", lw=0.2,\n",
        "            )\n",
        "        \n",
        "        legend = ax[i].legend(framealpha=1)\n",
        "        frame = legend.get_frame()\n",
        "        frame.set_facecolor(\"white\")\n",
        "        frame.set_edgecolor(\"black\")\n",
        "        \n",
        "        vals = ax[i].get_yticks()\n",
        "        ax[i].set_yticklabels([\"{:,}\".format(x) for x in vals])\n",
        "        ax[i].xaxis.set_tick_params(rotation=45)\n",
        "\n",
        "    plt.show()"
      ],
      "metadata": {
        "id": "qf2Y2thia9Tz"
      },
      "execution_count": 15,
      "outputs": []
    },
    {
      "cell_type": "code",
      "source": [
        "fig, ax = plt.subplots(1, 2, figsize=(25, 10))\n",
        "target_names = list(train_y.columns)\n",
        "\n",
        "plot_target_distributions(fig, ax,\n",
        "                          data={\"train\": train_y, \n",
        "                                \"test\": test_y},\n",
        "                          target_names=target_names,\n",
        "                          titles=[\"Total confirmed cases of COVID-19\", \n",
        "                                  \"New confirmed cases of COVID-19\"],\n",
        "                          colors={\"train\": \"xkcd:coral\",\n",
        "                                  \"test\": \"xkcd:tangerine\"},\n",
        "                          suptitle=\"Target distributions\",\n",
        "                          xlabel=\"date\",\n",
        "                          ylabel=\"counts\")"
      ],
      "metadata": {
        "colab": {
          "base_uri": "https://localhost:8080/",
          "height": 532
        },
        "id": "8t4aOfe3Q_OR",
        "outputId": "5e6e6f88-53a1-4bc6-a70f-b33cce7d2a64"
      },
      "execution_count": 16,
      "outputs": [
        {
          "output_type": "display_data",
          "data": {
            "image/png": "[encoded data removed]",
            "text/plain": [
              "<Figure size 1800x720 with 2 Axes>"
            ]
          },
          "metadata": {
            "needs_background": "light"
          }
        }
      ]
    },
    {
      "cell_type": "markdown",
      "source": [
        "Число заболевших растёт очень быстро, на первый взгляд экспоненциально. Для первого подхода к снаряду давайте это и используем.\n"
      ],
      "metadata": {
        "id": "FvjjiV3NvYeM"
      }
    },
    {
      "cell_type": "markdown",
      "source": [
        "### 2.1 Linear Regression\n",
        "\n",
        "Используя линейную регрессию, обучим модель с экспоненциальным ростом числа заболевших: y ~ exp(линейная функция от x), где x — номер текущего дня.\n",
        "\n",
        "https://scikit-learn.org/stable/modules/generated/sklearn.linear_model.LinearRegression.html\n"
      ],
      "metadata": {
        "id": "ZO9dP0r5v0iv"
      }
    },
    {
      "cell_type": "code",
      "source": [
        "from sklearn.linear_model import LinearRegression"
      ],
      "metadata": {
        "id": "KwjeWbqL0gCS"
      },
      "execution_count": 17,
      "outputs": []
    },
    {
      "cell_type": "markdown",
      "source": [
        "Пронумеруем наши дни (начиная с единицы)"
      ],
      "metadata": {
        "id": "rJWrNNDd7S3g"
      }
    },
    {
      "cell_type": "code",
      "source": [
        "test_X.shape[0]"
      ],
      "metadata": {
        "colab": {
          "base_uri": "https://localhost:8080/"
        },
        "id": "tPOAB_ZH-AvE",
        "outputId": "c1a325b2-1e42-4912-8d1a-2cf670694bde"
      },
      "execution_count": 18,
      "outputs": [
        {
          "output_type": "execute_result",
          "data": {
            "text/plain": [
              "684"
            ]
          },
          "metadata": {},
          "execution_count": 18
        }
      ]
    },
    {
      "cell_type": "code",
      "source": [
        "train_day_nums = np.arange(0, train_X.shape[0]).reshape(-1, 1)\n",
        "test_day_nums = np.arange(train_X.shape[0], train_X.shape[0] + test_X.shape[0]).reshape(-1, 1)"
      ],
      "metadata": {
        "id": "lbHcZfwJ8fri"
      },
      "execution_count": 19,
      "outputs": []
    },
    {
      "cell_type": "markdown",
      "source": [
        "Логарифмируем целевые переменные"
      ],
      "metadata": {
        "id": "Fy-Mk9OP7ObV"
      }
    },
    {
      "cell_type": "code",
      "source": [
        "train_log_y = np.log(train_y)\n",
        "test_log_y = np.log(test_y)"
      ],
      "metadata": {
        "id": "uze3vV7t5taS"
      },
      "execution_count": 20,
      "outputs": []
    },
    {
      "cell_type": "markdown",
      "source": [
        "Обучим линейную регрессию"
      ],
      "metadata": {
        "id": "ZvKcLtM07Yf5"
      }
    },
    {
      "cell_type": "code",
      "source": [
        "lin_reg_total = LinearRegression()\n",
        "lin_reg_total.fit(train_day_nums,\n",
        "                  np.array(train_log_y.total_cases.values).reshape(-1, 1))\n",
        "\n",
        "lin_reg_new = LinearRegression()\n",
        "lin_reg_new.fit(train_day_nums,\n",
        "                np.array(train_log_y.new_cases.values).reshape(-1, 1))"
      ],
      "metadata": {
        "colab": {
          "base_uri": "https://localhost:8080/"
        },
        "id": "QfigTJFr6jxp",
        "outputId": "27d98db0-103e-4d4d-ee7e-416433048c09"
      },
      "execution_count": 21,
      "outputs": [
        {
          "output_type": "execute_result",
          "data": {
            "text/plain": [
              "LinearRegression()"
            ]
          },
          "metadata": {},
          "execution_count": 21
        }
      ]
    },
    {
      "cell_type": "code",
      "source": [
        "pred_train_y_pd = pd.DataFrame()\n",
        "pred_train_y_pd[\"total_cases\"] = np.round(np.exp(lin_reg_total.predict(train_day_nums).flatten()))\n",
        "pred_train_y_pd[\"new_cases\"] = np.round(np.exp(lin_reg_new.predict(train_day_nums).flatten()))\n",
        "\n",
        "pred_test_y_pd = pd.DataFrame()\n",
        "pred_test_y_pd[\"total_cases\"] = np.round(np.exp(lin_reg_total.predict(test_day_nums).flatten()))\n",
        "pred_test_y_pd[\"new_cases\"] = np.round(np.exp(lin_reg_new.predict(test_day_nums).flatten()))"
      ],
      "metadata": {
        "id": "fCRUgdBF69Sm"
      },
      "execution_count": 22,
      "outputs": []
    },
    {
      "cell_type": "code",
      "source": [
        "pred_train_y_pd.index = train_y.index\n",
        "pred_test_y_pd.index = test_y.index"
      ],
      "metadata": {
        "id": "alwbHKUPCjXU"
      },
      "execution_count": 23,
      "outputs": []
    },
    {
      "cell_type": "code",
      "source": [
        "test_y.merge(pred_test_y_pd, on=\"date\")"
      ],
      "metadata": {
        "colab": {
          "base_uri": "https://localhost:8080/",
          "height": 442
        },
        "id": "UtMvR1Z3C54N",
        "outputId": "a1b25c55-51fd-48b3-932f-d3d144bbf7ee"
      },
      "execution_count": 24,
      "outputs": [
        {
          "output_type": "execute_result",
          "data": {
            "text/html": [
              "\n",
              "  <div id=\"df-cb7540cc-07c7-47da-83e9-ae615152b06d\">\n",
              "    <div class=\"colab-df-container\">\n",
              "      <div>\n",
              "<style scoped>\n",
              "    .dataframe tbody tr th:only-of-type {\n",
              "        vertical-align: middle;\n",
              "    }\n",
              "\n",
              "    .dataframe tbody tr th {\n",
              "        vertical-align: top;\n",
              "    }\n",
              "\n",
              "    .dataframe thead th {\n",
              "        text-align: right;\n",
              "    }\n",
              "</style>\n",
              "<table border=\"1\" class=\"dataframe\">\n",
              "  <thead>\n",
              "    <tr style=\"text-align: right;\">\n",
              "      <th></th>\n",
              "      <th>total_cases_x</th>\n",
              "      <th>new_cases_x</th>\n",
              "      <th>total_cases_y</th>\n",
              "      <th>new_cases_y</th>\n",
              "    </tr>\n",
              "    <tr>\n",
              "      <th>date</th>\n",
              "      <th></th>\n",
              "      <th></th>\n",
              "      <th></th>\n",
              "      <th></th>\n",
              "    </tr>\n",
              "  </thead>\n",
              "  <tbody>\n",
              "    <tr>\n",
              "      <th>2020-04-22</th>\n",
              "      <td>57999.0</td>\n",
              "      <td>5236.0</td>\n",
              "      <td>1.249020e+05</td>\n",
              "      <td>1.504600e+04</td>\n",
              "    </tr>\n",
              "    <tr>\n",
              "      <th>2020-04-23</th>\n",
              "      <td>62773.0</td>\n",
              "      <td>4774.0</td>\n",
              "      <td>1.522950e+05</td>\n",
              "      <td>1.812100e+04</td>\n",
              "    </tr>\n",
              "    <tr>\n",
              "      <th>2020-04-24</th>\n",
              "      <td>68622.0</td>\n",
              "      <td>5849.0</td>\n",
              "      <td>1.856960e+05</td>\n",
              "      <td>2.182400e+04</td>\n",
              "    </tr>\n",
              "    <tr>\n",
              "      <th>2020-04-25</th>\n",
              "      <td>74588.0</td>\n",
              "      <td>5966.0</td>\n",
              "      <td>2.264220e+05</td>\n",
              "      <td>2.628400e+04</td>\n",
              "    </tr>\n",
              "    <tr>\n",
              "      <th>2020-04-26</th>\n",
              "      <td>80949.0</td>\n",
              "      <td>6361.0</td>\n",
              "      <td>2.760800e+05</td>\n",
              "      <td>3.165600e+04</td>\n",
              "    </tr>\n",
              "    <tr>\n",
              "      <th>...</th>\n",
              "      <td>...</td>\n",
              "      <td>...</td>\n",
              "      <td>...</td>\n",
              "      <td>...</td>\n",
              "    </tr>\n",
              "    <tr>\n",
              "      <th>2022-03-02</th>\n",
              "      <td>16353868.0</td>\n",
              "      <td>96180.0</td>\n",
              "      <td>3.713413e+63</td>\n",
              "      <td>1.035890e+59</td>\n",
              "    </tr>\n",
              "    <tr>\n",
              "      <th>2022-03-03</th>\n",
              "      <td>16445802.0</td>\n",
              "      <td>91934.0</td>\n",
              "      <td>4.527828e+63</td>\n",
              "      <td>1.247603e+59</td>\n",
              "    </tr>\n",
              "    <tr>\n",
              "      <th>2022-03-04</th>\n",
              "      <td>16533932.0</td>\n",
              "      <td>88130.0</td>\n",
              "      <td>5.520858e+63</td>\n",
              "      <td>1.502585e+59</td>\n",
              "    </tr>\n",
              "    <tr>\n",
              "      <th>2022-03-05</th>\n",
              "      <td>16619507.0</td>\n",
              "      <td>85575.0</td>\n",
              "      <td>6.731676e+63</td>\n",
              "      <td>1.809680e+59</td>\n",
              "    </tr>\n",
              "    <tr>\n",
              "      <th>2022-03-06</th>\n",
              "      <td>16698139.0</td>\n",
              "      <td>78632.0</td>\n",
              "      <td>8.208047e+63</td>\n",
              "      <td>2.179539e+59</td>\n",
              "    </tr>\n",
              "  </tbody>\n",
              "</table>\n",
              "<p>684 rows × 4 columns</p>\n",
              "</div>\n",
              "      <button class=\"colab-df-convert\" onclick=\"convertToInteractive('df-cb7540cc-07c7-47da-83e9-ae615152b06d')\"\n",
              "              title=\"Convert this dataframe to an interactive table.\"\n",
              "              style=\"display:none;\">\n",
              "        \n",
              "  <svg xmlns=\"http://www.w3.org/2000/svg\" height=\"24px\"viewBox=\"0 0 24 24\"\n",
              "       width=\"24px\">\n",
              "    <path d=\"M0 0h24v24H0V0z\" fill=\"none\"/>\n",
              "    <path d=\"M18.56 5.44l.94 2.06.94-2.06 2.06-.94-2.06-.94-.94-2.06-.94 2.06-2.06.94zm-11 1L8.5 8.5l.94-2.06 2.06-.94-2.06-.94L8.5 2.5l-.94 2.06-2.06.94zm10 10l.94 2.06.94-2.06 2.06-.94-2.06-.94-.94-2.06-.94 2.06-2.06.94z\"/><path d=\"M17.41 7.96l-1.37-1.37c-.4-.4-.92-.59-1.43-.59-.52 0-1.04.2-1.43.59L10.3 9.45l-7.72 7.72c-.78.78-.78 2.05 0 2.83L4 21.41c.39.39.9.59 1.41.59.51 0 1.02-.2 1.41-.59l7.78-7.78 2.81-2.81c.8-.78.8-2.07 0-2.86zM5.41 20L4 18.59l7.72-7.72 1.47 1.35L5.41 20z\"/>\n",
              "  </svg>\n",
              "      </button>\n",
              "      \n",
              "  <style>\n",
              "    .colab-df-container {\n",
              "      display:flex;\n",
              "      flex-wrap:wrap;\n",
              "      gap: 12px;\n",
              "    }\n",
              "\n",
              "    .colab-df-convert {\n",
              "      background-color: #E8F0FE;\n",
              "      border: none;\n",
              "      border-radius: 50%;\n",
              "      cursor: pointer;\n",
              "      display: none;\n",
              "      fill: #1967D2;\n",
              "      height: 32px;\n",
              "      padding: 0 0 0 0;\n",
              "      width: 32px;\n",
              "    }\n",
              "\n",
              "    .colab-df-convert:hover {\n",
              "      background-color: #E2EBFA;\n",
              "      box-shadow: 0px 1px 2px rgba(60, 64, 67, 0.3), 0px 1px 3px 1px rgba(60, 64, 67, 0.15);\n",
              "      fill: #174EA6;\n",
              "    }\n",
              "\n",
              "    [theme=dark] .colab-df-convert {\n",
              "      background-color: #3B4455;\n",
              "      fill: #D2E3FC;\n",
              "    }\n",
              "\n",
              "    [theme=dark] .colab-df-convert:hover {\n",
              "      background-color: #434B5C;\n",
              "      box-shadow: 0px 1px 3px 1px rgba(0, 0, 0, 0.15);\n",
              "      filter: drop-shadow(0px 1px 2px rgba(0, 0, 0, 0.3));\n",
              "      fill: #FFFFFF;\n",
              "    }\n",
              "  </style>\n",
              "\n",
              "      <script>\n",
              "        const buttonEl =\n",
              "          document.querySelector('#df-cb7540cc-07c7-47da-83e9-ae615152b06d button.colab-df-convert');\n",
              "        buttonEl.style.display =\n",
              "          google.colab.kernel.accessAllowed ? 'block' : 'none';\n",
              "\n",
              "        async function convertToInteractive(key) {\n",
              "          const element = document.querySelector('#df-cb7540cc-07c7-47da-83e9-ae615152b06d');\n",
              "          const dataTable =\n",
              "            await google.colab.kernel.invokeFunction('convertToInteractive',\n",
              "                                                     [key], {});\n",
              "          if (!dataTable) return;\n",
              "\n",
              "          const docLinkHtml = 'Like what you see? Visit the ' +\n",
              "            '<a target=\"_blank\" href=https://colab.research.google.com/notebooks/data_table.ipynb>data table notebook</a>'\n",
              "            + ' to learn more about interactive tables.';\n",
              "          element.innerHTML = '';\n",
              "          dataTable['output_type'] = 'display_data';\n",
              "          await google.colab.output.renderOutput(dataTable, element);\n",
              "          const docLink = document.createElement('div');\n",
              "          docLink.innerHTML = docLinkHtml;\n",
              "          element.appendChild(docLink);\n",
              "        }\n",
              "      </script>\n",
              "    </div>\n",
              "  </div>\n",
              "  "
            ],
            "text/plain": [
              "            total_cases_x  new_cases_x  total_cases_y   new_cases_y\n",
              "date                                                               \n",
              "2020-04-22        57999.0       5236.0   1.249020e+05  1.504600e+04\n",
              "2020-04-23        62773.0       4774.0   1.522950e+05  1.812100e+04\n",
              "2020-04-24        68622.0       5849.0   1.856960e+05  2.182400e+04\n",
              "2020-04-25        74588.0       5966.0   2.264220e+05  2.628400e+04\n",
              "2020-04-26        80949.0       6361.0   2.760800e+05  3.165600e+04\n",
              "...                   ...          ...            ...           ...\n",
              "2022-03-02     16353868.0      96180.0   3.713413e+63  1.035890e+59\n",
              "2022-03-03     16445802.0      91934.0   4.527828e+63  1.247603e+59\n",
              "2022-03-04     16533932.0      88130.0   5.520858e+63  1.502585e+59\n",
              "2022-03-05     16619507.0      85575.0   6.731676e+63  1.809680e+59\n",
              "2022-03-06     16698139.0      78632.0   8.208047e+63  2.179539e+59\n",
              "\n",
              "[684 rows x 4 columns]"
            ]
          },
          "metadata": {},
          "execution_count": 24
        }
      ]
    },
    {
      "cell_type": "code",
      "source": [
        "fig, ax = plt.subplots(1, 2, figsize=(25, 10))\n",
        "target_names = list(train_y.columns)\n",
        "\n",
        "plot_target_distributions(fig, ax,\n",
        "                          data={\"train\": pred_train_y_pd, \n",
        "                                \"test\": pred_test_y_pd},\n",
        "                          target_names=target_names,\n",
        "                          titles=[\"Total confirmed cases of COVID-19\", \n",
        "                                  \"New confirmed cases of COVID-19\"],\n",
        "                          colors={\"train\": \"xkcd:coral\",\n",
        "                                  \"test\": \"xkcd:tangerine\"},\n",
        "                          suptitle=\"Target distributions\",\n",
        "                          xlabel=\"date\",\n",
        "                          ylabel=\"counts\")"
      ],
      "metadata": {
        "colab": {
          "base_uri": "https://localhost:8080/",
          "height": 488
        },
        "id": "lap3M9EuAPLp",
        "outputId": "3d24914c-1e1b-4c11-cc95-534b31c404a7"
      },
      "execution_count": 25,
      "outputs": [
        {
          "output_type": "display_data",
          "data": {
            "image/png": "[encoded data removed]",
            "text/plain": [
              "<Figure size 1800x720 with 2 Axes>"
            ]
          },
          "metadata": {
            "needs_background": "light"
          }
        }
      ]
    },
    {
      "cell_type": "markdown",
      "source": [
        "### 2.2 Posterior parameters distributions\n",
        "\n",
        "Найдите апостериорное распределение параметров этой модели для достаточно широкого априорного распределения. Требующееся для этого значение дисперсии шума в данных оцените, исходя из вашей же максимальной апостериорной модели (это фактически первый шаг эмпирического Байеса)."
      ],
      "metadata": {
        "id": "1HzmK17UPSw8"
      }
    },
    {
      "cell_type": "code",
      "source": [
        "class GaussianDistribution:\n",
        "    def __init__(self, mean, cov):\n",
        "        self.mean = mean\n",
        "        self.cov = cov\n",
        "\n",
        "    def __str__(self):\n",
        "        s = f\"\"\"Gaussian:\n",
        "    mean={self.mean} \n",
        "    cov=\\n{self.cov}\n",
        "    \"\"\" \n",
        "        return s"
      ],
      "metadata": {
        "id": "_dBdEruiS6Yi"
      },
      "execution_count": 26,
      "outputs": []
    },
    {
      "cell_type": "markdown",
      "source": [
        "В качестве априорного выберем нормальное с нулевым средним и диаогональной ковариационной матрицей"
      ],
      "metadata": {
        "id": "zvKUzT1GbaGU"
      }
    },
    {
      "cell_type": "code",
      "source": [
        "inv_alpha = 1e1\n",
        "prior_distribution = GaussianDistribution(mean=np.zeros(2), \n",
        "                                          cov=np.eye(2)*inv_alpha)"
      ],
      "metadata": {
        "id": "I3-dNcTxPo7o"
      },
      "execution_count": 27,
      "outputs": []
    },
    {
      "cell_type": "code",
      "source": [
        "print(prior_distribution)"
      ],
      "metadata": {
        "colab": {
          "base_uri": "https://localhost:8080/"
        },
        "id": "cD7zF4lIk87t",
        "outputId": "9f908e8f-669f-4458-c7c6-75b87ae33e19"
      },
      "execution_count": 28,
      "outputs": [
        {
          "output_type": "stream",
          "name": "stdout",
          "text": [
            "Gaussian:\n",
            "    mean=[0. 0.] \n",
            "    cov=\n",
            "[[10.  0.]\n",
            " [ 0. 10.]]\n",
            "    \n"
          ]
        }
      ]
    },
    {
      "cell_type": "markdown",
      "source": [
        "Найдем апостериорное распределение (по формулам из лекции)"
      ],
      "metadata": {
        "id": "RXAQo7NXljIE"
      }
    },
    {
      "cell_type": "code",
      "source": [
        "sigma_0_inv = np.linalg.inv(prior_distribution.cov)\n",
        "mu_0 = prior_distribution.mean\n",
        "\n",
        "variance = np.var(train_log_y.total_cases - np.log(pred_train_y_pd.total_cases))\n",
        "print(f\"Variance: {variance:.4}\")\n",
        "\n",
        "Fi = np.hstack((\n",
        "    np.ones(50).reshape(-1, 1), \n",
        "    train_day_nums.reshape(-1, 1)\n",
        "))"
      ],
      "metadata": {
        "colab": {
          "base_uri": "https://localhost:8080/"
        },
        "id": "Nzw3wrzKdV1P",
        "outputId": "a5fb50b5-ed06-4078-8f77-5c7b592c5cc4"
      },
      "execution_count": 29,
      "outputs": [
        {
          "output_type": "stream",
          "name": "stdout",
          "text": [
            "Variance: 0.1228\n"
          ]
        }
      ]
    },
    {
      "cell_type": "code",
      "source": [
        "sigma_N = np.linalg.inv(sigma_0_inv + Fi.T @ Fi / variance)\n",
        "mu_N = sigma_N @ (sigma_0_inv @ mu_0 + Fi.T @ train_y.total_cases / variance)"
      ],
      "metadata": {
        "id": "myV7cxeG93Yy"
      },
      "execution_count": 30,
      "outputs": []
    },
    {
      "cell_type": "code",
      "source": [
        "posterior_distribution = GaussianDistribution(mean=mu_N, \n",
        "                                              cov=sigma_N)"
      ],
      "metadata": {
        "id": "h7xzuUk-PjDI"
      },
      "execution_count": 31,
      "outputs": []
    },
    {
      "cell_type": "code",
      "source": [
        "print(posterior_distribution)"
      ],
      "metadata": {
        "colab": {
          "base_uri": "https://localhost:8080/"
        },
        "id": "q0OBWqbYkRSt",
        "outputId": "2075a50e-59fe-45da-b246-7a49c1a53bc7"
      },
      "execution_count": 32,
      "outputs": [
        {
          "output_type": "stream",
          "name": "stdout",
          "text": [
            "Gaussian:\n",
            "    mean=[-9627.07481786   727.83264593] \n",
            "    cov=\n",
            "[[ 9.52837407e-03 -2.88738520e-04]\n",
            " [-2.88738520e-04  1.17881409e-05]]\n",
            "    \n"
          ]
        }
      ]
    },
    {
      "cell_type": "markdown",
      "source": [
        "### 2.3 Sampling of many different exponents\n",
        "\n",
        "Посэмплируйте много разных экспонент, постройте графики. Сколько, исходя из этих сэмплов, предсказывается случаев коронавируса в России к 1 мая? к 1 июня? к 1 сентября? Постройте предсказательные распределения (можно эмпирически, исходя из данных сэмплирования)."
      ],
      "metadata": {
        "id": "GBSEtMZyjxHG"
      }
    },
    {
      "cell_type": "code",
      "source": [
        "def myplot_sample_lines(mu, sigma, n=100, points=None):\n",
        "    # Посэмплируем и порисуем прямые\n",
        "    my_w = np.random.multivariate_normal(mu, sigma, n)\n",
        "\n",
        "    # plt.axis('equal')\n",
        "    for w in my_w:\n",
        "        plt.plot(train_day_nums, np.exp(w[0] + w[1]*train_day_nums), 'k-', lw=.4)\n",
        "\n",
        "    if not points is None:\n",
        "        plt.scatter(points[0], points[1], marker='*', s=200)"
      ],
      "metadata": {
        "id": "_hc1LhSlmYlJ"
      },
      "execution_count": 33,
      "outputs": []
    },
    {
      "cell_type": "code",
      "source": [
        "myplot_sample_lines(posterior_distribution.mean, \n",
        "posterior_distribution.cov)"
      ],
      "metadata": {
        "colab": {
          "base_uri": "https://localhost:8080/",
          "height": 276
        },
        "id": "2f8T3o-b58jh",
        "outputId": "27785515-9864-4230-ce2c-718dfb6784f3"
      },
      "execution_count": 34,
      "outputs": [
        {
          "output_type": "display_data",
          "data": {
            "image/png": "[encoded data removed]",
            "text/plain": [
              "<Figure size 432x288 with 1 Axes>"
            ]
          },
          "metadata": {
            "needs_background": "light"
          }
        }
      ]
    },
    {
      "cell_type": "code",
      "source": [
        ""
      ],
      "metadata": {
        "id": "RSErIHO8l5iU"
      },
      "execution_count": 34,
      "outputs": []
    }
  ]
}